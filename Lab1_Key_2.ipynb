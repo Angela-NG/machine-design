{
 "cells": [
  {
   "cell_type": "code",
   "execution_count": 3,
   "id": "a36a8f1a",
   "metadata": {},
   "outputs": [],
   "source": [
    "# import statements\n",
    "import sympy as sp\n",
    "import numpy as np\n",
    "import matplotlib.pyplot as plt\n",
    "\n",
    "# import MechDesign Helpers\n",
    "import rm_python_lib.MechDesign.Helpers as HM\n",
    "\n",
    "from rm_python_lib.MechDesign.Units.Units import m_, mm_, kg_, s_, N_, rpm_, W_, deg_\n",
    "import rm_python_lib.MechDesign.Units.UnitMethods as UM\n",
    "\n",
    "import rm_python_lib.MechDesign.RnM as RnM"
   ]
  },
  {
   "cell_type": "code",
   "execution_count": 4,
   "id": "cd621772",
   "metadata": {},
   "outputs": [
    {
     "data": {
      "text/latex": [
       "$\\displaystyle T_{nom} = 35.01$"
      ],
      "text/plain": [
       "Eq(T_nom, 35.01)"
      ]
     },
     "metadata": {},
     "output_type": "display_data"
    },
    {
     "data": {
      "text/latex": [
       "$\\displaystyle T_{eq} = 57.35$"
      ],
      "text/plain": [
       "Eq(T_eq, 57.35)"
      ]
     },
     "metadata": {},
     "output_type": "display_data"
    },
    {
     "data": {
      "text/latex": [
       "$\\displaystyle T_{eq} = 57.35$"
      ],
      "text/plain": [
       "Eq(T_eq, 57.35)"
      ]
     },
     "execution_count": 4,
     "metadata": {},
     "output_type": "execute_result"
    }
   ],
   "source": [
    "# constants\n",
    "motor_speed = 1500\n",
    "P_motor = 5500\n",
    "K_A = 1.638\n",
    "\n",
    "# convert motor speed\n",
    "n_M = (1500 / 60)\n",
    "\n",
    "# calculate Nominal Torque\n",
    "T_nom = P_motor / (2 * np.pi * n_M)\n",
    "T_eq = T_nom * K_A\n",
    "HM.EqPrint(\"T_nom\",T_nom)\n",
    "# SC.T_eq = SC.E12_1_hC_DynamicLoadTorque()\n",
    "HM.EqPrint(\"T_eq\",T_eq)\n"
   ]
  },
  {
   "cell_type": "code",
   "execution_count": null,
   "id": "f35a6ed6",
   "metadata": {},
   "outputs": [],
   "source": [
    "# constants based on Motor Selection\n",
    "d = 38\n",
    "phi = 1 # 1key\n",
    "n = 1 # 1 key\n",
    "K_lambda = 1 # method C\n",
    "\n",
    "K_t = 0.92\n",
    "b = 10\n",
    "h = 8\n",
    "S_F = 1.5\n",
    "\n",
    "# Motor Shaft\n",
    "ReN_shaft = 490\n",
    "Re_shaft = ReN_shaft * K_t\n",
    "HM.EqPrint('R_eShaft',Re_shaft)\n",
    "\n",
    "# Key Yield Strength\n",
    "ReN_key = 490\n",
    "Re_key = ReN_key * K_t\n",
    "HM.EqPrint('R_eKey',Re_key)\n",
    "\n",
    "# Hub\n",
    "RmN_hub = 450\n",
    "Kt_hub = 1\n",
    "Rm_hub = RmN_hub * Kt_hub\n",
    "HM.EqPrint('R_mHub',Rm_hub)\n",
    "\n",
    "p_bar = Re_key / S_F\n",
    "\n",
    "# S = min(UM.RemoveUnits(Re_shaft),UM.RemoveUnits(Re_key),UM.RemoveUnits(Rm_hub))*N_/mm_**2 / SC.p_gem\n",
    "# t=HM.EqPrint('S',S)\n",
    "\n",
    "# Key Length Range\n",
    "l_min = b + 1.0\n",
    "l_max = 1.3 * d\n",
    "l = np.linspace(l_min, l_max, 100)\n",
    "lprime = l - b\n",
    "\n",
    "hprime = h * 0.45\n",
    "\n",
    "T_eq_Nmm = T_eq * 1000\n",
    "# print(T_eq_Nmm)\n",
    "\n",
    "# p_gem as a function of l\n",
    "p_gem = (2 * T_eq_Nmm * K_lambda) / (d * hprime * lprime * n * phi)\n",
    "# print(SC.p_gem)\n",
    "# HM.EqPrint('p_gem',SC.p_gem)\n",
    "\n",
    "\n",
    "# Safety factor S\n",
    "S = p_bar / p_gem\n",
    "# print(S)\n"
   ]
  }
 ],
 "metadata": {
  "kernelspec": {
   "display_name": "Python 3",
   "language": "python",
   "name": "python3"
  },
  "language_info": {
   "codemirror_mode": {
    "name": "ipython",
    "version": 3
   },
   "file_extension": ".py",
   "mimetype": "text/x-python",
   "name": "python",
   "nbconvert_exporter": "python",
   "pygments_lexer": "ipython3",
   "version": "3.13.7"
  }
 },
 "nbformat": 4,
 "nbformat_minor": 5
}
