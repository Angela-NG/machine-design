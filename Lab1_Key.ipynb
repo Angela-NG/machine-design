{
 "cells": [
  {
   "cell_type": "code",
   "execution_count": 19,
   "id": "6d247ecb",
   "metadata": {},
   "outputs": [],
   "source": [
    "# import statements\n",
    "import sympy as sp\n",
    "import numpy as np\n",
    "import matplotlib.pyplot as plt\n",
    "\n",
    "# import MechDesign Helpers\n",
    "import rm_python_lib.MechDesign.Helpers as HM\n",
    "\n",
    "from rm_python_lib.MechDesign.Units.Units import m_, mm_, kg_, s_, N_, rpm_, W_, deg_\n",
    "import rm_python_lib.MechDesign.Units.UnitMethods as UM\n",
    "\n",
    "import rm_python_lib.MechDesign.RnM as RnM"
   ]
  },
  {
   "cell_type": "markdown",
   "id": "6ae5b2cc",
   "metadata": {},
   "source": [
    "### 1. Calculate Nominal and Equivalent Torque using Team Specific Data and Motor Size Selected \n",
    "Our selected motor size = 132S is 38mm (from Table 16-21)\n",
    "\n",
    "$$P_{M,required,SF} = 5500.0W$$\n",
    "\n",
    "$$K_A = 1.638$$\n",
    "\n",
    "Standardized Key (DIN 6885) for motor shaft 38mm:\n",
    "- Width b = 10mm\n",
    "- Height h = 8mm"
   ]
  },
  {
   "cell_type": "code",
   "execution_count": 20,
   "id": "554abcdb",
   "metadata": {},
   "outputs": [
    {
     "data": {
      "text/latex": [
       "$\\displaystyle T_{nom} = 35.01 N_{} m_{}$"
      ],
      "text/plain": [
       "Eq(T_nom, 35.01*N_*m_)"
      ]
     },
     "metadata": {},
     "output_type": "display_data"
    },
    {
     "data": {
      "text/latex": [
       "$\\displaystyle T_{eq} = 57.35 N_{} m_{}$"
      ],
      "text/plain": [
       "Eq(T_eq, 57.35*N_*m_)"
      ]
     },
     "metadata": {},
     "output_type": "display_data"
    },
    {
     "data": {
      "text/latex": [
       "$\\displaystyle T_{eq} = 57.35 N_{} m_{}$"
      ],
      "text/plain": [
       "Eq(T_eq, 57.35*N_*m_)"
      ]
     },
     "execution_count": 20,
     "metadata": {},
     "output_type": "execute_result"
    }
   ],
   "source": [
    "# creating a new shaft connection, (this is 1 specific connection in your design)\n",
    "SC = RnM.ShaftConnection() \n",
    "\n",
    "# known constants\n",
    "SC.d = 38*mm_\n",
    "motor_speed = 1500*rpm_\n",
    "P_motor = 5500*W_\n",
    "SC.K_A = 1.638\n",
    "SC.b = 8*mm_\n",
    "SC.h = 7*mm_\n",
    "\n",
    "# assumed initial constants\n",
    "SC.K_t = 0.92\n",
    "SC.l = 80*mm_\n",
    "\n",
    "\n",
    "# convert motor speed\n",
    "n_M = (1500 / 60)\n",
    "\n",
    "# calculate Nominal Torque\n",
    "SC.T_nom = P_motor / (2 * np.pi * n_M)\n",
    "SC.T_eq = SC.T_nom * SC.K_A\n",
    "HM.EqPrint(\"T_nom\",SC.T_nom * N_*m_ / W_)\n",
    "HM.EqPrint(\"T_eq\",SC.T_eq * N_*m_ / W_)"
   ]
  },
  {
   "cell_type": "markdown",
   "id": "4afec23e",
   "metadata": {},
   "source": [
    "### 2. Calculating p_gem"
   ]
  },
  {
   "cell_type": "code",
   "execution_count": 21,
   "id": "f9b80e28",
   "metadata": {},
   "outputs": [
    {
     "data": {
      "text/latex": [
       "$\\displaystyle p_{gem} = \\frac{0.01331 W_{}}{mm_{}^{3}}$"
      ],
      "text/plain": [
       "Eq(p_gem, 0.01331*W_/mm_**3)"
      ]
     },
     "metadata": {},
     "output_type": "display_data"
    },
    {
     "data": {
      "text/latex": [
       "$\\displaystyle p_{gem} = \\frac{0.01331 W_{}}{mm_{}^{3}}$"
      ],
      "text/plain": [
       "Eq(p_gem, 0.01331*W_/mm_**3)"
      ]
     },
     "metadata": {},
     "output_type": "display_data"
    }
   ],
   "source": [
    "# key constants (no change)\n",
    "SC.phi = 1\n",
    "SC.n = 1 \n",
    "SC.K_lambda = 1\n",
    "\n",
    "# setting up helper functions\n",
    "SC.lprime = SC.E12_1_hI_KeyEffectiveLength()\n",
    "SC.hprime = SC.E12_1_hJ_KeyEffectiveHeight()\n",
    "SC.T_eq = SC.E12_1_hC_DynamicLoadTorque()\n",
    "\n",
    "# setting up the main equations\n",
    "SC.p_gem = SC.E12_1B_KeyAveragePressure()\n",
    "HM.EqPrint(\"p_gem\",SC.p_gem)\n",
    "# convert units, the previous expression still has both m_ and mm_\n",
    "subst = {m_:1e3*mm_}\n",
    "SC.p_gem = SC.p_gem.evalf(subs=subst)  # this line will substitute the symbol 'm_' with '1e3*mm_\n",
    "t=HM.EqPrint('p_gem',SC.p_gem)\n"
   ]
  }
 ],
 "metadata": {
  "kernelspec": {
   "display_name": "Python 3",
   "language": "python",
   "name": "python3"
  },
  "language_info": {
   "codemirror_mode": {
    "name": "ipython",
    "version": 3
   },
   "file_extension": ".py",
   "mimetype": "text/x-python",
   "name": "python",
   "nbconvert_exporter": "python",
   "pygments_lexer": "ipython3",
   "version": "3.13.7"
  }
 },
 "nbformat": 4,
 "nbformat_minor": 5
}
