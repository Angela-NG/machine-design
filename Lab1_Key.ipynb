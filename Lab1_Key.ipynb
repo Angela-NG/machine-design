{
 "cells": [
  {
   "cell_type": "code",
   "execution_count": 7,
   "id": "6d247ecb",
   "metadata": {},
   "outputs": [],
   "source": [
    "# import statements\n",
    "import sympy as sp\n",
    "import numpy as np\n",
    "import matplotlib.pyplot as plt\n",
    "\n",
    "# import MechDesign Helpers\n",
    "import rm_python_lib.MechDesign.Helpers as HM\n",
    "\n",
    "from rm_python_lib.MechDesign.Units.Units import m_, mm_, kg_, s_, N_, rpm_, W_, deg_\n",
    "import rm_python_lib.MechDesign.Units.UnitMethods as UM\n",
    "\n",
    "import rm_python_lib.MechDesign.RnM as RnM"
   ]
  },
  {
   "cell_type": "markdown",
   "id": "6ae5b2cc",
   "metadata": {},
   "source": [
    "### 1. Calculate Nominal and Equivalent Torque using Team Specific Data and Motor Size Selected \n",
    "Our selected motor size = 132S is 38mm (from Table 16-21)\n",
    "\n",
    "$$P_{M,required,SF} = 5500.0W$$\n",
    "\n",
    "$$K_A = 1.638$$\n",
    "\n",
    "Standardized Key for motor shaft 38mm from Table 12-2a:\n",
    "- Width b = 10mm\n",
    "- Height h = 8mm"
   ]
  },
  {
   "cell_type": "code",
   "execution_count": null,
   "id": "554abcdb",
   "metadata": {},
   "outputs": [
    {
     "data": {
      "text/latex": [
       "$\\displaystyle T_{nom} = 35.01 N_{} m_{}$"
      ],
      "text/plain": [
       "Eq(T_nom, 35.01*N_*m_)"
      ]
     },
     "metadata": {},
     "output_type": "display_data"
    },
    {
     "data": {
      "text/latex": [
       "$\\displaystyle T_{eq} = 57.35 N_{} m_{}$"
      ],
      "text/plain": [
       "Eq(T_eq, 57.35*N_*m_)"
      ]
     },
     "metadata": {},
     "output_type": "display_data"
    },
    {
     "data": {
      "text/latex": [
       "$\\displaystyle T_{eq} = 57.35 N_{} m_{}$"
      ],
      "text/plain": [
       "Eq(T_eq, 57.35*N_*m_)"
      ]
     },
     "execution_count": 8,
     "metadata": {},
     "output_type": "execute_result"
    }
   ],
   "source": [
    "# creating a new shaft connection, (this is 1 specific connection in your design)\n",
    "SC = RnM.ShaftConnection() \n",
    "\n",
    "# known constants\n",
    "SC.d = 38*mm_\n",
    "motor_speed = 1500*rpm_\n",
    "P_motor = 5500*W_\n",
    "SC.K_A = 1.638\n",
    "SC.b = 10*mm_\n",
    "SC.h = 8*mm_\n",
    "SF = 1.5\n",
    "\n",
    "# assumed initial constants\n",
    "SC.K_t = 0.92\n",
    "# SC.l = 48*mm_\n",
    "\n",
    "\n",
    "# convert motor speed\n",
    "n_M = (1500 / 60)\n",
    "\n",
    "# calculate Nominal Torque\n",
    "SC.T_nom = P_motor / (2 * np.pi * n_M)\n",
    "SC.T_eq = SC.T_nom * SC.K_A\n",
    "HM.EqPrint(\"T_nom\",SC.T_nom * N_*m_ / W_)\n",
    "HM.EqPrint(\"T_eq\",SC.T_eq * N_*m_ / W_)"
   ]
  },
  {
   "cell_type": "markdown",
   "id": "4afec23e",
   "metadata": {},
   "source": [
    "### 2. Calculating p_gem\n",
    "\n",
    "Key_TD.ipynb"
   ]
  },
  {
   "cell_type": "code",
   "execution_count": null,
   "id": "f9b80e28",
   "metadata": {},
   "outputs": [
    {
     "name": "stdout",
     "output_type": "stream",
     "text": [
      "38*mm_\n",
      "3.6*mm_\n"
     ]
    },
    {
     "data": {
      "text/latex": [
       "$\\displaystyle p_{gem} = \\frac{0.02207 W_{}}{mm_{}^{3}}$"
      ],
      "text/plain": [
       "Eq(p_gem, 0.02207*W_/mm_**3)"
      ]
     },
     "metadata": {},
     "output_type": "display_data"
    },
    {
     "data": {
      "text/latex": [
       "$\\displaystyle p_{gem} = \\frac{0.02207 W_{}}{mm_{}^{3}}$"
      ],
      "text/plain": [
       "Eq(p_gem, 0.02207*W_/mm_**3)"
      ]
     },
     "metadata": {},
     "output_type": "display_data"
    }
   ],
   "source": [
    "# key constants (no change)\n",
    "SC.phi = 1\n",
    "SC.n = 1 \n",
    "SC.K_lambda = 1\n",
    "\n",
    "# setting up helper functions\n",
    "# SC.lprime = SC.E12_1_hI_KeyEffectiveLength()\n",
    "# print(SC.lprime)\n",
    "SC.hprime = SC.E12_1_hJ_KeyEffectiveHeight()\n",
    "print(SC.hprime)\n",
    "SC.T_eq = SC.E12_1_hC_DynamicLoadTorque()\n",
    "\n",
    "# setting up the main equations\n",
    "SC.p_gem = SC.E12_1B_KeyAveragePressure()\n",
    "HM.EqPrint(\"p_gem\",SC.p_gem)\n",
    "# convert units, the previous expression still has both m_ and mm_\n",
    "subst = {m_:1e3*mm_}\n",
    "SC.p_gem = SC.p_gem.evalf(subs=subst)  # this line will substitute the symbol 'm_' with '1e3*mm_\n",
    "t=HM.EqPrint('p_gem',SC.p_gem)\n"
   ]
  },
  {
   "cell_type": "markdown",
   "id": "4d6c86e3",
   "metadata": {},
   "source": [
    "### 3. Key Length Range\n"
   ]
  },
  {
   "cell_type": "code",
   "execution_count": null,
   "id": "2a53b098",
   "metadata": {},
   "outputs": [
    {
     "ename": "SyntaxError",
     "evalue": "invalid syntax (3341299694.py, line 1)",
     "output_type": "error",
     "traceback": [
      "  \u001b[36mCell\u001b[39m\u001b[36m \u001b[39m\u001b[32mIn[10]\u001b[39m\u001b[32m, line 1\u001b[39m\n\u001b[31m    \u001b[39m\u001b[31mR_e_key =\u001b[39m\n              ^\n\u001b[31mSyntaxError\u001b[39m\u001b[31m:\u001b[39m invalid syntax\n"
     ]
    }
   ],
   "source": [
    "# Key length range (l > b = 10mm) \n",
    "# l_max based on l' <= 1.3*d\n",
    "l_min = SC.b + 1.0\n",
    "l_max = 1.3*SC.d \n",
    "l = np.linspace(l_min,l_max,100)\n",
    "l_prime = l - SC.b"
   ]
  }
 ],
 "metadata": {
  "kernelspec": {
   "display_name": "Python 3",
   "language": "python",
   "name": "python3"
  },
  "language_info": {
   "codemirror_mode": {
    "name": "ipython",
    "version": 3
   },
   "file_extension": ".py",
   "mimetype": "text/x-python",
   "name": "python",
   "nbconvert_exporter": "python",
   "pygments_lexer": "ipython3",
   "version": "3.13.7"
  }
 },
 "nbformat": 4,
 "nbformat_minor": 5
}
