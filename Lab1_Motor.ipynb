{
 "cells": [
  {
   "cell_type": "markdown",
   "id": "f16c19a5",
   "metadata": {},
   "source": [
    "# Shaft Connections, Lab 1: Motor <br>\n",
    "<img src=\"images/Motor_Image.JPG\" alt=\"motor\" width=\"150\"/>\n",
    "<br><br>\n",
    "As the drive utilises an asynchronous motor with a fixed speed of 1500 rpm and the given speed and pitch diameter, the desired rotational speed at the output shaft of the gearbox and motor selection can be determined. \n"
   ]
  },
  {
   "cell_type": "code",
   "execution_count": 2,
   "id": "5dea4ae3",
   "metadata": {},
   "outputs": [],
   "source": [
    "# import statements\n",
    "import sympy as sp\n",
    "import numpy as np\n",
    "import matplotlib.pyplot as plt\n",
    "\n",
    "# import MechDesign Helpers\n",
    "import rm_python_lib.MechDesign.Helpers as HM\n",
    "\n",
    "from rm_python_lib.MechDesign.Units.Units import m_, mm_, kg_, s_, N_, rpm_, W_, deg_\n",
    "import rm_python_lib.MechDesign.Units.UnitMethods as UM\n",
    "\n",
    "import rm_python_lib.MechDesign.RnM as RnM"
   ]
  },
  {
   "cell_type": "code",
   "execution_count": 3,
   "id": "03711db3",
   "metadata": {},
   "outputs": [],
   "source": [
    "# Constants Team-Specific W_11_g13 values\n",
    "chain_speed = 14 # km/h\n",
    "sprocket_diameter = 400 # mm\n",
    "power_required = 3 # kW\n",
    "motor_speed = 1500 # tr/min (fixed)\n",
    "ratio_constraint_i = 3/5 #i_r/i_twk\n",
    "required_life_hrs_day = 20\n",
    "required_life_days_year = 250"
   ]
  },
  {
   "cell_type": "markdown",
   "id": "b4bd8783",
   "metadata": {},
   "source": [
    "### 1. Required Rotational Speed at Output Shaft\n",
    "$$n_{out}$$\n",
    "\n",
    "First, we would need to convert chain_speed and sprocket_diameter to S.I. units\n",
    "\n",
    "Creating new Chain to calculate the variables."
   ]
  },
  {
   "cell_type": "code",
   "execution_count": 4,
   "id": "cca76413",
   "metadata": {},
   "outputs": [],
   "source": [
    "# Convert to Chain Speed, Sprocket Diameter and Speed Required to S.I. Units\n",
    "\n",
    "v_chain = (chain_speed * 1000) / 60\n",
    "d_sprocket = (sprocket_diameter / 1000)\n",
    "P_out = power_required * 1000"
   ]
  },
  {
   "cell_type": "markdown",
   "id": "686d96b1",
   "metadata": {},
   "source": [
    "Calculate the rotational speed"
   ]
  },
  {
   "cell_type": "code",
   "execution_count": 5,
   "id": "b567c9e9",
   "metadata": {},
   "outputs": [
    {
     "data": {
      "text/latex": [
       "$\\displaystyle n_{out} = 185.7 rpm_{}$"
      ],
      "text/plain": [
       "Eq(n_out, 185.7*rpm_)"
      ]
     },
     "metadata": {},
     "output_type": "display_data"
    },
    {
     "data": {
      "text/latex": [
       "$\\displaystyle n_{out} = 185.7 rpm_{}$"
      ],
      "text/plain": [
       "Eq(n_out, 185.7*rpm_)"
      ]
     },
     "execution_count": 5,
     "metadata": {},
     "output_type": "execute_result"
    }
   ],
   "source": [
    "C = RnM.Chain()\n",
    "C.n = v_chain / (np.pi * d_sprocket)\n",
    "HM.EqPrint('n_out',C.n*rpm_)"
   ]
  },
  {
   "cell_type": "markdown",
   "id": "32f6eb91",
   "metadata": {},
   "source": [
    "### 2. Required Total Transmission Ratio \n",
    "$$i_{totaal}$$\n",
    "\n",
    "Given Motor Speed $$n_M = 1500 tr/min$$"
   ]
  },
  {
   "cell_type": "code",
   "execution_count": 6,
   "id": "37bdbb8a",
   "metadata": {},
   "outputs": [
    {
     "data": {
      "text/latex": [
       "$\\displaystyle i_{totaal} = 8.078$"
      ],
      "text/plain": [
       "Eq(i_totaal, 8.078)"
      ]
     },
     "metadata": {},
     "output_type": "display_data"
    },
    {
     "data": {
      "text/latex": [
       "$\\displaystyle i_{totaal} = 8.078$"
      ],
      "text/plain": [
       "Eq(i_totaal, 8.078)"
      ]
     },
     "execution_count": 6,
     "metadata": {},
     "output_type": "execute_result"
    }
   ],
   "source": [
    "# HM.EqPrint('n_M',1500*rpm_)\n",
    "n_M = 1500\n",
    "i_totaal = n_M / C.n\n",
    "HM.EqPrint('i_totaal', i_totaal)"
   ]
  },
  {
   "cell_type": "markdown",
   "id": "4bab46d8",
   "metadata": {},
   "source": [
    "### 3. Desirable Transmission Ratios\n",
    "Transmission Ratio: belt side (ib) and the gear side (ig)\n",
    "$$i_b/i_g = 3/5$$\n",
    "$$i_b * i_g = i_{totaal}$$"
   ]
  },
  {
   "cell_type": "code",
   "execution_count": 7,
   "id": "ee28a66d",
   "metadata": {},
   "outputs": [
    {
     "data": {
      "text/latex": [
       "$\\displaystyle i_{b} = 2.202$"
      ],
      "text/plain": [
       "Eq(i_b, 2.202)"
      ]
     },
     "metadata": {},
     "output_type": "display_data"
    },
    {
     "data": {
      "text/latex": [
       "$\\displaystyle i_{g} = 3.669$"
      ],
      "text/plain": [
       "Eq(i_g, 3.669)"
      ]
     },
     "metadata": {},
     "output_type": "display_data"
    },
    {
     "data": {
      "text/latex": [
       "$\\displaystyle i_{g} = 3.669$"
      ],
      "text/plain": [
       "Eq(i_g, 3.669)"
      ]
     },
     "execution_count": 7,
     "metadata": {},
     "output_type": "execute_result"
    }
   ],
   "source": [
    "i_b = (i_totaal * (3/5))**(1/2)\n",
    "HM.EqPrint('i_b', i_b)\n",
    "i_g = (i_totaal * (5/3))**(1/2)\n",
    "HM.EqPrint('i_g', i_g)"
   ]
  },
  {
   "cell_type": "markdown",
   "id": "655f9127",
   "metadata": {},
   "source": [
    "Checking calculation of ratio transmission in comparison with the Shaft 2 Output Shaft Rotational Speed\n",
    "$$n_2$$"
   ]
  },
  {
   "cell_type": "code",
   "execution_count": 8,
   "id": "ffc608ec",
   "metadata": {},
   "outputs": [
    {
     "name": "stdout",
     "output_type": "stream",
     "text": [
      "681.3236509555217\n"
     ]
    },
    {
     "data": {
      "text/latex": [
       "$\\displaystyle n_{2} = 185.7 rpm_{}$"
      ],
      "text/plain": [
       "Eq(n_2, 185.7*rpm_)"
      ]
     },
     "metadata": {},
     "output_type": "display_data"
    },
    {
     "data": {
      "text/latex": [
       "$\\displaystyle n_{2} = 185.7 rpm_{}$"
      ],
      "text/plain": [
       "Eq(n_2, 185.7*rpm_)"
      ]
     },
     "execution_count": 8,
     "metadata": {},
     "output_type": "execute_result"
    }
   ],
   "source": [
    "C.n_1 = n_M / i_b\n",
    "print(C.n_1)\n",
    "C.n_2 = C.n_1 / i_g\n",
    "HM.EqPrint('n_2', C.n_2*rpm_)"
   ]
  },
  {
   "cell_type": "markdown",
   "id": "50746993",
   "metadata": {},
   "source": [
    "### 4. Standard Efficiencies\n",
    "Using standard Engineering Practice and Industry Standards for system, determine the efficiencies for the system.\n",
    "<br><br>\n",
    "![](images/System.JPG)\n",
    "<br><br>\n",
    "\n",
    "Efficiency of\n",
    "- Belt: 93-98%\n",
    "- Gearbox: 94-98%\n",
    "- Coupling: >95%\n",
    "- Chain: ≈0.96"
   ]
  },
  {
   "cell_type": "code",
   "execution_count": 9,
   "id": "d86b36f2",
   "metadata": {},
   "outputs": [],
   "source": [
    "eff_belt = 0.95\n",
    "eff_gearbox = 0.96\n",
    "eff_coupling = 0.98\n",
    "eff_chain = 0.96\n",
    "\n",
    "total_eff = eff_belt * eff_gearbox * eff_coupling * eff_chain\n"
   ]
  },
  {
   "cell_type": "markdown",
   "id": "1bbd5d0a",
   "metadata": {},
   "source": [
    "#### 4.1 Power Motor Required with account to Power Required and Efficiency\n",
    "Therefore, the Power Motor Required is"
   ]
  },
  {
   "cell_type": "code",
   "execution_count": 10,
   "id": "e9b21a3a",
   "metadata": {},
   "outputs": [
    {
     "data": {
      "text/latex": [
       "$\\displaystyle P_{M,required} = 3496.0 W_{}$"
      ],
      "text/plain": [
       "Eq(P_M,required, 3496.0*W_)"
      ]
     },
     "metadata": {},
     "output_type": "display_data"
    },
    {
     "data": {
      "text/latex": [
       "$\\displaystyle P_{M,required} = 3496.0 W_{}$"
      ],
      "text/plain": [
       "Eq(P_M,required, 3496.0*W_)"
      ]
     },
     "execution_count": 10,
     "metadata": {},
     "output_type": "execute_result"
    }
   ],
   "source": [
    "P_M = P_out / total_eff\n",
    "HM.EqPrint('P_M,required', P_M*W_)"
   ]
  },
  {
   "cell_type": "markdown",
   "id": "946b2cef",
   "metadata": {},
   "source": [
    "#### 4.2 Taking into Account of Service Factor SF\n",
    "While taking Service Factor into account, the Power Motor Required is"
   ]
  },
  {
   "cell_type": "code",
   "execution_count": 11,
   "id": "5560d678",
   "metadata": {},
   "outputs": [
    {
     "data": {
      "text/latex": [
       "$\\displaystyle P_{M,required,SF} = 4196.0 W_{}$"
      ],
      "text/plain": [
       "Eq(P_M,required,SF, 4196.0*W_)"
      ]
     },
     "metadata": {},
     "output_type": "display_data"
    },
    {
     "data": {
      "text/latex": [
       "$\\displaystyle P_{M,required,SF} = 4196.0 W_{}$"
      ],
      "text/plain": [
       "Eq(P_M,required,SF, 4196.0*W_)"
      ]
     },
     "execution_count": 11,
     "metadata": {},
     "output_type": "execute_result"
    }
   ],
   "source": [
    "SF = 1.2\n",
    "SF_P_M = P_M * SF\n",
    "HM.EqPrint('P_M,required,SF', SF_P_M*W_)"
   ]
  }
 ],
 "metadata": {
  "kernelspec": {
   "display_name": "Python 3",
   "language": "python",
   "name": "python3"
  },
  "language_info": {
   "codemirror_mode": {
    "name": "ipython",
    "version": 3
   },
   "file_extension": ".py",
   "mimetype": "text/x-python",
   "name": "python",
   "nbconvert_exporter": "python",
   "pygments_lexer": "ipython3",
   "version": "3.13.7"
  }
 },
 "nbformat": 4,
 "nbformat_minor": 5
}
