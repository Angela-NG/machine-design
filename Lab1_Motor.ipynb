{
 "cells": [
  {
   "cell_type": "markdown",
   "id": "f16c19a5",
   "metadata": {},
   "source": [
    "# Shaft Connections, Lab 1: Motor <br>\n",
    "![](images/Motor_Image.JPG)\n",
    "<br><br>\n",
    "For a asynchronous motor\n"
   ]
  },
  {
   "cell_type": "code",
   "execution_count": 3,
   "id": "5dea4ae3",
   "metadata": {},
   "outputs": [
    {
     "name": "stderr",
     "output_type": "stream",
     "text": [
      "c:\\Users\\angel\\OneDrive\\Desktop\\KULeuven\\MD\\machine-design\\rm_python_lib\\MechDesign\\RnM\\C3_StrengthAndStress.py:36: SyntaxWarning: invalid escape sequence '\\ '\n",
      "  'K_alpha'           :'[] Shape-dependent size factor of the part and test rod respectively,\\ (see 3.5.1-3.), values according to table 3-11d' ,\\\n",
      "c:\\Users\\angel\\OneDrive\\Desktop\\KULeuven\\MD\\machine-design\\rm_python_lib\\MechDesign\\RnM\\C3_StrengthAndStress.py:37: SyntaxWarning: invalid escape sequence '\\ '\n",
      "  'K_alphaTest'       :'[] Shape-dependent size factor of the part and test rod respectively,\\ (see 3.5.1-3.), values according to table 3-11d' ,\\\n"
     ]
    }
   ],
   "source": [
    "# import statements\n",
    "import sympy as sp\n",
    "import numpy as np\n",
    "import matplotlib.pyplot as plt\n",
    "\n",
    "# import MechDesign Helpers\n",
    "import rm_python_lib.MechDesign.Helpers as HM\n",
    "\n",
    "from rm_python_lib.MechDesign.Units.Units import m_, mm_, kg_, s_, N_, rpm_, W_, deg_\n",
    "import rm_python_lib.MechDesign.Units.UnitMethods as UM\n",
    "\n",
    "import rm_python_lib.MechDesign.RnM as RnM"
   ]
  },
  {
   "cell_type": "code",
   "execution_count": 4,
   "id": "03711db3",
   "metadata": {},
   "outputs": [],
   "source": [
    "# Constants Team-Specific W_11_g13 values\n",
    "chain_speed = 14 # km/h\n",
    "sprocket_diameter = 400 # mm\n",
    "power_required = 3 # kW\n",
    "motor_speed = 1500 # tr/min (fixed)\n",
    "ratio_constraint_i = 3/5 #i_r/i_twk\n",
    "required_life_hrs_day = 20\n",
    "required_life_days_year = 250"
   ]
  },
  {
   "cell_type": "markdown",
   "id": "b4bd8783",
   "metadata": {},
   "source": [
    "# 1. Required Output Speed n_out\n",
    "\n",
    "First, we would need to convert chain_speed and sprocket_diameter to S.I. units"
   ]
  },
  {
   "cell_type": "code",
   "execution_count": 5,
   "id": "cca76413",
   "metadata": {},
   "outputs": [
    {
     "name": "stdout",
     "output_type": "stream",
     "text": [
      "233.33333333333334\n",
      "0.4\n"
     ]
    }
   ],
   "source": [
    "# Convert to S.I. units\n",
    "v_chain = (chain_speed * 1000) / 60\n",
    "print(v_chain)\n",
    "d_sprocket = sprocket_diameter / 1000\n",
    "print(d_sprocket)"
   ]
  }
 ],
 "metadata": {
  "kernelspec": {
   "display_name": "Python 3",
   "language": "python",
   "name": "python3"
  },
  "language_info": {
   "codemirror_mode": {
    "name": "ipython",
    "version": 3
   },
   "file_extension": ".py",
   "mimetype": "text/x-python",
   "name": "python",
   "nbconvert_exporter": "python",
   "pygments_lexer": "ipython3",
   "version": "3.13.7"
  }
 },
 "nbformat": 4,
 "nbformat_minor": 5
}
