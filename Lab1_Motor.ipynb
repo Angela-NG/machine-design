{
 "cells": [
  {
   "cell_type": "markdown",
   "id": "f16c19a5",
   "metadata": {},
   "source": [
    "# Shaft Connections, Lab 1: Motor <br>\n",
    "![](images/Motor_Image.JPG)\n",
    "<br><br>\n",
    "For a asynchronous motor\n"
   ]
  },
  {
   "cell_type": "code",
   "execution_count": null,
   "id": "03711db3",
   "metadata": {},
   "outputs": [],
   "source": [
    "# Constants Team-Specific W_11_g13 values\n",
    "chain_speed = 14 # km/h\n",
    "sprocket_diameter = 400 # mm\n",
    "power_required = 3 # kW"
   ]
  }
 ],
 "metadata": {
  "kernelspec": {
   "display_name": "Python 3",
   "language": "python",
   "name": "python3"
  },
  "language_info": {
   "name": "python",
   "version": "3.13.7"
  }
 },
 "nbformat": 4,
 "nbformat_minor": 5
}
