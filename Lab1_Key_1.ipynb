{
 "cells": [
  {
   "cell_type": "code",
   "execution_count": 1,
   "id": "15bd4431",
   "metadata": {},
   "outputs": [],
   "source": [
    "# import statements\n",
    "import sympy as sp\n",
    "import numpy as np\n",
    "import matplotlib.pyplot as plt\n",
    "\n",
    "# import MechDesign Helpers\n",
    "import rm_python_lib.MechDesign.Helpers as HM\n",
    "\n",
    "from rm_python_lib.MechDesign.Units.Units import m_, mm_, kg_, s_, N_, rpm_, W_, deg_\n",
    "import rm_python_lib.MechDesign.Units.UnitMethods as UM\n",
    "\n",
    "import rm_python_lib.MechDesign.RnM as RnM"
   ]
  },
  {
   "cell_type": "markdown",
   "id": "06bdb0d4",
   "metadata": {},
   "source": [
    "### 1. Calculate Nominal Torque using Team Specific Data and Motor Size Selected \n",
    "\n",
    "\n",
    "$$P_{M,required} = 5500.0W$$\n",
    "\n",
    "$$K_A = 1.638$$\n",
    "\n"
   ]
  },
  {
   "cell_type": "code",
   "execution_count": 2,
   "id": "ac7e39ee",
   "metadata": {},
   "outputs": [
    {
     "data": {
      "text/latex": [
       "$\\displaystyle T_{nom} = 35.01 N_{} m_{}$"
      ],
      "text/plain": [
       "Eq(T_nom, 35.01*N_*m_)"
      ]
     },
     "metadata": {},
     "output_type": "display_data"
    },
    {
     "data": {
      "text/latex": [
       "$\\displaystyle T_{eq} = 57.35 N_{} m_{}$"
      ],
      "text/plain": [
       "Eq(T_eq, 57.35*N_*m_)"
      ]
     },
     "metadata": {},
     "output_type": "display_data"
    },
    {
     "data": {
      "text/latex": [
       "$\\displaystyle T_{eq} = 57.35 N_{} m_{}$"
      ],
      "text/plain": [
       "Eq(T_eq, 57.35*N_*m_)"
      ]
     },
     "execution_count": 2,
     "metadata": {},
     "output_type": "execute_result"
    }
   ],
   "source": [
    "# new shaft connection object\n",
    "SC = RnM.ShaftConnection() \n",
    "\n",
    "# constants\n",
    "motor_speed = 1500*rpm_\n",
    "P_motor = 5500*W_\n",
    "SC.K_A = 1.638\n",
    "\n",
    "# convert motor speed\n",
    "n_M = (1500 / 60)\n",
    "\n",
    "# calculate Nominal Torque\n",
    "SC.T_nom = P_motor / (2 * np.pi * n_M)\n",
    "SC.T_eq = SC.T_nom * SC.K_A\n",
    "HM.EqPrint(\"T_nom\",SC.T_nom * N_*m_ / W_)\n",
    "# SC.T_eq = SC.E12_1_hC_DynamicLoadTorque()\n",
    "HM.EqPrint(\"T_eq\",SC.T_eq * N_*m_ / W_)\n"
   ]
  },
  {
   "cell_type": "markdown",
   "id": "0cd75498",
   "metadata": {},
   "source": [
    "### 2. Tangential Force Ft,nom\n",
    "Tangential force at contact surface of motor shaft with dynamic load\n",
    "$$F_{t,nom} = {2T_{nom}}/{d}$$\n",
    "\n",
    "$$F_t = K_A * F_{t,nom}$$\n",
    "\n",
    "Our selected motor size = 132s is 38mm (from Table 16-21)"
   ]
  },
  {
   "cell_type": "code",
   "execution_count": 3,
   "id": "9c3091cf",
   "metadata": {},
   "outputs": [
    {
     "data": {
      "text/latex": [
       "$\\displaystyle F_{t,nom} = 1843.0 N_{}$"
      ],
      "text/plain": [
       "Eq(F_t,nom, 1843.0*N_)"
      ]
     },
     "metadata": {},
     "output_type": "display_data"
    },
    {
     "data": {
      "text/latex": [
       "$\\displaystyle F_{t} = 3019.0 N_{}$"
      ],
      "text/plain": [
       "Eq(F_t, 3019.0*N_)"
      ]
     },
     "metadata": {},
     "output_type": "display_data"
    },
    {
     "data": {
      "text/latex": [
       "$\\displaystyle F_{t} = 3019.0 N_{}$"
      ],
      "text/plain": [
       "Eq(F_t, 3019.0*N_)"
      ]
     },
     "execution_count": 3,
     "metadata": {},
     "output_type": "execute_result"
    }
   ],
   "source": [
    "SC.d = 38\n",
    "F_t_nom = (2 * SC.T_nom) / (SC.d / 1000)\n",
    "F_t = SC.K_A * F_t_nom\n",
    "HM.EqPrint(\"F_t,nom\",F_t_nom / W_ * N_)\n",
    "HM.EqPrint(\"F_t\",F_t /W_ * N_)"
   ]
  },
  {
   "cell_type": "markdown",
   "id": "3e7dc93e",
   "metadata": {},
   "source": [
    "### 3. Calculate average pressure p_gem as a function of key length l\n",
    "\n",
    "Standardized Key for motor shaft 132 38mm from Table 12-2a:\n",
    "- Width b = 10mm\n",
    "- Height h = 8mm\n",
    "\n",
    "Key length range limits:\n",
    "- l > b=10mm\n",
    "- l_max is based on l' <= 1.3*d\n",
    "\n",
    "Using TB1-1, C45E  \n",
    "ReNKey = 490 N/mm^2\n",
    "\n",
    "$$R_{e, key} = K_t * R_{eN}$$\n",
    "\n",
    "Ductile Material (Steel shaft and key):\n",
    "<br>\n",
    "Safety factor against plastic deformation \n",
    "$$S_F = 1.5$$\n",
    "\n",
    "$$\\bar{p} = R_{e, key} / S_F$$\n",
    "\n"
   ]
  },
  {
   "cell_type": "code",
   "execution_count": 4,
   "id": "d326b6ef",
   "metadata": {},
   "outputs": [
    {
     "data": {
      "text/latex": [
       "$\\displaystyle R_{eShaft} = 450.8$"
      ],
      "text/plain": [
       "Eq(R_eShaft, 450.8)"
      ]
     },
     "metadata": {},
     "output_type": "display_data"
    },
    {
     "data": {
      "text/latex": [
       "$\\displaystyle R_{eKey} = 450.8$"
      ],
      "text/plain": [
       "Eq(R_eKey, 450.8)"
      ]
     },
     "metadata": {},
     "output_type": "display_data"
    },
    {
     "data": {
      "text/latex": [
       "$\\displaystyle R_{mHub} = 450$"
      ],
      "text/plain": [
       "Eq(R_mHub, 450)"
      ]
     },
     "metadata": {},
     "output_type": "display_data"
    },
    {
     "data": {
      "text/latex": [
       "$\\displaystyle p_{gem} = \\frac{114700.0}{136.8 l - 1368.0}$"
      ],
      "text/plain": [
       "Eq(p_gem, 114700.0/(136.8*_l - 1368.0))"
      ]
     },
     "metadata": {},
     "output_type": "display_data"
    },
    {
     "data": {
      "text/latex": [
       "$\\displaystyle S = 0.3584 l - 3.584$"
      ],
      "text/plain": [
       "Eq(S, 0.3584*_l - 3.584)"
      ]
     },
     "metadata": {},
     "output_type": "display_data"
    },
    {
     "data": {
      "text/latex": [
       "$\\displaystyle S = 0.3584 l - 3.584$"
      ],
      "text/plain": [
       "Eq(S, 0.3584*_l - 3.584)"
      ]
     },
     "execution_count": 4,
     "metadata": {},
     "output_type": "execute_result"
    }
   ],
   "source": [
    "# constants based on Motor Selection\n",
    "SC.phi = 1 # 1key\n",
    "SC.n = 1 # 1 key\n",
    "SC.K_lambda = 1 # method C\n",
    "\n",
    "SC.K_t = 0.92\n",
    "SC.b = 10\n",
    "SC.h = 8\n",
    "S_F = 1.5\n",
    "\n",
    "# Motor Shaft\n",
    "ReN_shaft = 490\n",
    "Re_shaft = ReN_shaft * SC.K_t\n",
    "HM.EqPrint('R_eShaft',Re_shaft)\n",
    "\n",
    "# Key Yield Strength\n",
    "ReN_key = 490\n",
    "Re_key = ReN_key * SC.K_t\n",
    "HM.EqPrint('R_eKey',Re_key)\n",
    "\n",
    "# Hub\n",
    "RmN_hub = 450\n",
    "Kt_hub = 1\n",
    "Rm_hub = RmN_hub * Kt_hub\n",
    "HM.EqPrint('R_mHub',Rm_hub)\n",
    "\n",
    "p_bar = Re_key / S_F\n",
    "\n",
    "# S = min(UM.RemoveUnits(Re_shaft),UM.RemoveUnits(Re_key),UM.RemoveUnits(Rm_hub))*N_/mm_**2 / SC.p_gem\n",
    "# t=HM.EqPrint('S',S)\n",
    "\n",
    "# Key Length Range\n",
    "# l_min = SC.b + 1.0\n",
    "# l_max = 1.3 * SC.d\n",
    "# l = np.linspace(l_min, l_max, 100)\n",
    "\n",
    "SC.lprime = SC.l - SC.b\n",
    "\n",
    "SC.hprime = SC.h * 0.45\n",
    "\n",
    "T_eq_Nmm = UM.RemoveUnits(SC.T_eq * 1000)\n",
    "# print(T_eq_Nmm)\n",
    "\n",
    "# p_gem as a function of l\n",
    "SC.p_gem = (2 * T_eq_Nmm * SC.K_lambda) / (SC.d * SC.hprime * SC.lprime * SC.n * SC.phi)\n",
    "# print(p_gem)\n",
    "HM.EqPrint('p_gem',SC.p_gem)\n",
    "\n",
    "\n",
    "# Safety factor S\n",
    "S = p_bar / SC.p_gem\n",
    "HM.EqPrint('S',S)\n",
    "# print(S)\n"
   ]
  },
  {
   "cell_type": "markdown",
   "id": "3a40156e",
   "metadata": {},
   "source": [
    "### 3. Plot Graphs\n",
    "\n",
    "$$L_{limit} = 1.3*d + b$$"
   ]
  },
  {
   "cell_type": "code",
   "execution_count": null,
   "id": "00be1255",
   "metadata": {},
   "outputs": [
    {
     "data": {
      "image/png": "[encoded data removed]",
      "text/plain": [
       "<Figure size 800x500 with 1 Axes>"
      ]
     },
     "metadata": {},
     "output_type": "display_data"
    }
   ],
   "source": [
    "# Key Length Range\n",
    "l_min = SC.b + 1.0\n",
    "l_max = 1.3 * SC.d\n",
    "l_limit = 61.4\n",
    "x = np.linspace(20, 100, 100)\n",
    "# SC.lprime = SC.l - SC.b\n",
    "# # p_gem as a function of l\n",
    "y = 114700.0 / (136.8 * x - 1368.0)\n",
    "# print(SC.l)\n",
    "# print(SC.p_gem)\n",
    "\n",
    "# key length\n",
    "chosen_length = 56\n",
    "chosen_pressure = 114700.0 / (136.8 * chosen_length - 1368.0)\n",
    "\n",
    "plt.figure(figsize=(8,5))\n",
    "plt.plot(x,y,label=r'Average Pressure $p_{gem}$', color='red', linewidth=2)\n",
    "textsize = 'x-large'\n",
    "plt.axhline(p_bar, color='blue', linestyle='--', \n",
    "            label=r'Permissible Pressure $\\overline{{p}} \\approx 300.533$ MPa')\n",
    "plt.axvline(l_limit, color='purple', linestyle='-', \n",
    "            label=f\"Max $l'$ Limit ($61.4$ mm)\", linewidth=2)\n",
    "plt.xlabel(r'Key Length $l$ (mm)')\n",
    "plt.ylabel(r'Average Surface Pressure $p_{gem}$ (MPa)')\n",
    "# plt.title(f'Key Pressure vs. Length for Motor Pulley ($T_{{eq}}={T_eq:.1f}$ Nm)')\n",
    "#show surface pressure with choosen key length\n",
    "x_index = 56\n",
    "length_specific = x_index\n",
    "y_intersect = 114700.0 / (136.8 * x_index - 1368.0)\n",
    "plt.annotate(f'$l = {length_specific}mm$ \\n$P_{{gem}}= {y_intersect:.1f} MPa$'\n",
    "             ,xy=(length_specific,y_intersect),xytext=(35,150),size=textsize\n",
    "             ,arrowprops=dict(arrowstyle='->', color='black', linewidth=2)\n",
    "             ,bbox=dict(facecolor='lightblue',edgecolor='none'))\n",
    "\n",
    "plt.grid(True, which='both', linestyle='--')\n",
    "plt.ylim(0, p_bar * 1.5) \n",
    "plt.xlim(l_min, 90)\n",
    "plt.plot(chosen_length, chosen_pressure, 'x', color='green', label=f'Chosen Key Length ($56.0$ mm)')\n",
    "\n",
    "plt.legend()\n",
    "\n",
    "plt.show()"
   ]
  },
  {
   "cell_type": "code",
   "execution_count": 6,
   "id": "c718f1b0",
   "metadata": {},
   "outputs": [
    {
     "data": {
      "text/latex": [
       "$\\displaystyle S = 10.75$"
      ],
      "text/plain": [
       "Eq(S, 10.75)"
      ]
     },
     "metadata": {},
     "output_type": "display_data"
    },
    {
     "data": {
      "text/latex": [
       "$\\displaystyle S = 10.75$"
      ],
      "text/plain": [
       "Eq(S, 10.75)"
      ]
     },
     "execution_count": 6,
     "metadata": {},
     "output_type": "execute_result"
    }
   ],
   "source": [
    "l_final = 40\n",
    "S =0.3584 * l_final - 3.584\n",
    "HM.EqPrint('S',S)"
   ]
  }
 ],
 "metadata": {
  "kernelspec": {
   "display_name": "Python 3",
   "language": "python",
   "name": "python3"
  },
  "language_info": {
   "codemirror_mode": {
    "name": "ipython",
    "version": 3
   },
   "file_extension": ".py",
   "mimetype": "text/x-python",
   "name": "python",
   "nbconvert_exporter": "python",
   "pygments_lexer": "ipython3",
   "version": "3.13.7"
  }
 },
 "nbformat": 4,
 "nbformat_minor": 5
}
