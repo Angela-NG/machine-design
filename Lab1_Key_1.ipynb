{
 "cells": [
  {
   "cell_type": "code",
   "execution_count": 1,
   "id": "15bd4431",
   "metadata": {},
   "outputs": [],
   "source": [
    "# import statements\n",
    "import sympy as sp\n",
    "import numpy as np\n",
    "import matplotlib.pyplot as plt\n",
    "\n",
    "# import MechDesign Helpers\n",
    "import rm_python_lib.MechDesign.Helpers as HM\n",
    "\n",
    "from rm_python_lib.MechDesign.Units.Units import m_, mm_, kg_, s_, N_, rpm_, W_, deg_\n",
    "import rm_python_lib.MechDesign.Units.UnitMethods as UM\n",
    "\n",
    "import rm_python_lib.MechDesign.RnM as RnM"
   ]
  },
  {
   "cell_type": "markdown",
   "id": "06bdb0d4",
   "metadata": {},
   "source": [
    "### 1. Calculate Nominal Torque using Team Specific Data and Motor Size Selected \n",
    "\n",
    "\n",
    "$$P_{M,required,SF} = 5500.0W$$\n",
    "\n",
    "$$K_A = 1.638$$\n",
    "\n"
   ]
  },
  {
   "cell_type": "code",
   "execution_count": 7,
   "id": "ac7e39ee",
   "metadata": {},
   "outputs": [
    {
     "data": {
      "text/latex": [
       "$\\displaystyle T_{nom} = 35.01 N_{} m_{}$"
      ],
      "text/plain": [
       "Eq(T_nom, 35.01*N_*m_)"
      ]
     },
     "metadata": {},
     "output_type": "display_data"
    },
    {
     "data": {
      "text/latex": [
       "$\\displaystyle T_{eq} = 57.35 N_{} m_{}$"
      ],
      "text/plain": [
       "Eq(T_eq, 57.35*N_*m_)"
      ]
     },
     "metadata": {},
     "output_type": "display_data"
    },
    {
     "data": {
      "text/latex": [
       "$\\displaystyle T_{eq} = 57.35 N_{} m_{}$"
      ],
      "text/plain": [
       "Eq(T_eq, 57.35*N_*m_)"
      ]
     },
     "execution_count": 7,
     "metadata": {},
     "output_type": "execute_result"
    }
   ],
   "source": [
    "# new shaft connection object\n",
    "SC = RnM.ShaftConnection() \n",
    "\n",
    "# constants\n",
    "motor_speed = 1500*rpm_\n",
    "P_motor = 5500*W_\n",
    "SC.K_A = 1.638\n",
    "\n",
    "# convert motor speed\n",
    "n_M = (1500 / 60)\n",
    "\n",
    "# calculate Nominal Torque\n",
    "SC.T_nom = P_motor / (2 * np.pi * n_M)\n",
    "# SC.T_eq = SC.T_nom * SC.K_A\n",
    "HM.EqPrint(\"T_nom\",SC.T_nom * N_*m_ / W_)\n",
    "SC.T_eq = SC.E12_1_hC_DynamicLoadTorque()\n",
    "HM.EqPrint(\"T_eq\",SC.T_eq * N_*m_ / W_)\n"
   ]
  },
  {
   "cell_type": "markdown",
   "id": "3e7dc93e",
   "metadata": {},
   "source": [
    "### 2. Calculate pgem\n",
    "Our selected motor size = 132S is 38mm (from Table 16-21)\n",
    "\n",
    "Standardized Key for motor shaft 38mm from Table 12-2a:\n",
    "- Width b = 10mm\n",
    "- Height h = 8mm\n",
    "\n",
    "Using TB1-1, C45E  \n",
    "ReNShaft = 295 N/mm^2\n",
    "ReNKey = 490 N/mm^2\n",
    "ReN = 295 MPa\n",
    "\n",
    "$$R_e = K_t * R_{eN}$$"
   ]
  },
  {
   "cell_type": "code",
   "execution_count": null,
   "id": "d326b6ef",
   "metadata": {},
   "outputs": [],
   "source": [
    "# constants based on Motor Selection\n",
    "SC.d = 38*mm_ \n",
    "SC.phi = 1 # 1key\n",
    "SC.n = 1 # 1 key\n",
    "SC.K_lambda = 1 # method C\n",
    "\n",
    "SC.K_t = 0.92\n",
    "SC.b = 10*mm_\n",
    "SC.h = 8*mm_\n",
    "Re = \n",
    "\n",
    "\n",
    "\n"
   ]
  }
 ],
 "metadata": {
  "kernelspec": {
   "display_name": "Python 3",
   "language": "python",
   "name": "python3"
  },
  "language_info": {
   "codemirror_mode": {
    "name": "ipython",
    "version": 3
   },
   "file_extension": ".py",
   "mimetype": "text/x-python",
   "name": "python",
   "nbconvert_exporter": "python",
   "pygments_lexer": "ipython3",
   "version": "3.13.7"
  }
 },
 "nbformat": 4,
 "nbformat_minor": 5
}
